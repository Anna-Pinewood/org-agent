{
 "cells": [
  {
   "cell_type": "markdown",
   "metadata": {},
   "source": [
    "# BEGIN"
   ]
  },
  {
   "cell_type": "code",
   "execution_count": 1,
   "metadata": {},
   "outputs": [],
   "source": [
    "import sys\n",
    "import os\n",
    "from pathlib import Path\n",
    "path_project = Path(os.getcwd()).parent # /home/o.lipina/workspace/rucubrik\n",
    "path_src = path_project / 'src'  # /home/o.lipina/workspace/rucubrik/src\n",
    "sys.path.append(str(path_src))\n",
    "sys.path.append(str(path_project))\n",
    "\n",
    "%load_ext autoreload\n",
    "%autoreload 2"
   ]
  },
  {
   "cell_type": "code",
   "execution_count": 2,
   "metadata": {},
   "outputs": [],
   "source": [
    "import requests\n",
    "import json\n",
    "import logging\n",
    "import json\n",
    "# import pandas as pd\n",
    "import pickle\n",
    "from pathlib import Path\n",
    "import re\n",
    "import random\n",
    "import time\n",
    "from tqdm import tqdm\n",
    "from urllib.parse import urlparse\n",
    "import warnings\n",
    "warnings.simplefilter(\"ignore\")\n",
    "# import numpy as np\n",
    "\n",
    "random.seed(42)\n",
    "# np.random.seed(42)\n",
    "import datetime"
   ]
  },
  {
   "cell_type": "code",
   "execution_count": 3,
   "metadata": {},
   "outputs": [],
   "source": [
    "from src.config import CONFIG"
   ]
  },
  {
   "cell_type": "code",
   "execution_count": 4,
   "metadata": {},
   "outputs": [],
   "source": [
    "logging.basicConfig(\n",
    "    level=logging.INFO,\n",
    "    format=\"[%(levelname)s] %(name)s - %(message)s\"\n",
    ")"
   ]
  },
  {
   "cell_type": "markdown",
   "metadata": {},
   "source": [
    "## Click tool"
   ]
  },
  {
   "cell_type": "code",
   "execution_count": null,
   "metadata": {},
   "outputs": [],
   "source": [
    "from src.tools.browser_2.environment import BrowserEnvironment\n",
    "from src.tools.browser_2.click import ClickTool\n",
    "from src.tools.browser_2.click import FillTool\n",
    "from src.tools.browser_2.click import CheckContentTool\n",
    "from src.tools.browser_2.dropdown import DropDownTool\n",
    "from src.tools.browser_2.dropdown import DropdownOptionsTool\n"
   ]
  },
  {
   "cell_type": "code",
   "execution_count": 6,
   "metadata": {},
   "outputs": [
    {
     "data": {
      "text/plain": [
       "'https://id.itmo.ru/auth/realms/itmo/protocol/openid-connect/auth?response_type=code&scope=openid&client_id=isu&redirect_uri=https://isu.ifmo.ru/api/sso/v1/public/login?apex_params=p=2143:LOGIN:112820233588688'"
      ]
     },
     "execution_count": 6,
     "metadata": {},
     "output_type": "execute_result"
    }
   ],
   "source": [
    "CONFIG.isu_booking_creds.booking_login"
   ]
  },
  {
   "cell_type": "code",
   "execution_count": 7,
   "metadata": {},
   "outputs": [
    {
     "name": "stderr",
     "output_type": "stream",
     "text": [
      "[INFO] src.tools.browser_2.environment - Starting new browser environment\n"
     ]
    }
   ],
   "source": [
    "browser_env = BrowserEnvironment()\n",
    "await browser_env.initialize()"
   ]
  },
  {
   "cell_type": "markdown",
   "metadata": {},
   "source": [
    "### Login"
   ]
  },
  {
   "cell_type": "code",
   "execution_count": 8,
   "metadata": {},
   "outputs": [],
   "source": [
    "await browser_env.navigate(CONFIG.isu_booking_creds.booking_login)"
   ]
  },
  {
   "cell_type": "code",
   "execution_count": 9,
   "metadata": {},
   "outputs": [
    {
     "data": {
      "text/plain": [
       "'https://id.itmo.ru/auth/realms/itmo/protocol/openid-connect/auth?response_type=code&scope=openid&client_id=isu&redirect_uri=https://isu.ifmo.ru/api/sso/v1/public/login?apex_params=p=2143:LOGIN:112820233588688'"
      ]
     },
     "execution_count": 9,
     "metadata": {},
     "output_type": "execute_result"
    }
   ],
   "source": [
    "browser_env.current_url"
   ]
  },
  {
   "cell_type": "code",
   "execution_count": 10,
   "metadata": {},
   "outputs": [
    {
     "name": "stderr",
     "output_type": "stream",
     "text": [
      "[INFO] src.tools.browser_2.click - Attempting to fill '311408' into input #username\n",
      "[INFO] src.tools.browser_2.click - Successfully filled '311408' into #username\n",
      "[INFO] src.tools.browser_2.click - Attempting to fill 'musummer1' into input #password\n"
     ]
    },
    {
     "name": "stderr",
     "output_type": "stream",
     "text": [
      "[INFO] src.tools.browser_2.click - Successfully filled 'musummer1' into #password\n"
     ]
    }
   ],
   "source": [
    "result = await FillTool().execute(\n",
    "        env=browser_env,\n",
    "        selector='#username',\n",
    "        value=CONFIG.isu_booking_creds.username\n",
    "        )\n",
    "result = await FillTool().execute(\n",
    "        env=browser_env,\n",
    "        selector='#password',\n",
    "        value=CONFIG.isu_booking_creds.password\n",
    "        )"
   ]
  },
  {
   "cell_type": "code",
   "execution_count": 11,
   "metadata": {},
   "outputs": [
    {
     "name": "stderr",
     "output_type": "stream",
     "text": [
      "[INFO] src.tools.browser_2.click - Attempting to click button with text: Вход\n"
     ]
    },
    {
     "name": "stderr",
     "output_type": "stream",
     "text": [
      "[INFO] src.tools.browser_2.click - Waiting for navigation to complete\n",
      "[ERROR] src.tools.browser_2.click - Click failed on text='Вход': 'neurl_after_clickw_url'\n"
     ]
    }
   ],
   "source": [
    "result = await ClickTool().execute(\n",
    "        env=browser_env,\n",
    "        text=\"Вход\",\n",
    "        \n",
    "    )"
   ]
  },
  {
   "cell_type": "code",
   "execution_count": 12,
   "metadata": {},
   "outputs": [
    {
     "name": "stderr",
     "output_type": "stream",
     "text": [
      "[INFO] src.tools.browser_2.click - Found texts: ['Личный кабинет', 'Центр приложений']\n"
     ]
    }
   ],
   "source": [
    "texts=[\"Личный кабинет\", \"Центр приложений\"]\n",
    "login_result = await CheckContentTool().execute(\n",
    "    env=browser_env,texts=[\"Личный кабинет\", \"Центр приложений\"])"
   ]
  },
  {
   "cell_type": "markdown",
   "metadata": {},
   "source": [
    "### Go to booking"
   ]
  },
  {
   "cell_type": "code",
   "execution_count": 54,
   "metadata": {},
   "outputs": [],
   "source": [
    "await browser_env.navigate(CONFIG.isu_booking_creds.booking_url)"
   ]
  },
  {
   "cell_type": "code",
   "execution_count": 55,
   "metadata": {},
   "outputs": [
    {
     "data": {
      "text/plain": [
       "'https://isu.ifmo.ru/pls/apex/f?p=2431:1:117559366568926:'"
      ]
     },
     "execution_count": 55,
     "metadata": {},
     "output_type": "execute_result"
    }
   ],
   "source": [
    "browser_env.current_url"
   ]
  },
  {
   "cell_type": "code",
   "execution_count": 56,
   "metadata": {},
   "outputs": [
    {
     "name": "stderr",
     "output_type": "stream",
     "text": [
      "[INFO] src.tools.browser_2.click - Attempting to click button with text: Создать заявку\n"
     ]
    },
    {
     "name": "stderr",
     "output_type": "stream",
     "text": [
      "[INFO] src.tools.browser_2.click - Waiting for navigation to complete\n",
      "[INFO] src.tools.browser_2.click - Click successful on text='Создать заявку'. URL after click: https://isu.ifmo.ru/pls/apex/f?p=2431:4:117559366568926::NO:4:P4_MIN_DATE,P4_BACK_PAGE:,\n"
     ]
    }
   ],
   "source": [
    "result = await ClickTool().execute(\n",
    "        env=browser_env,\n",
    "        text=\"Создать заявку\",\n",
    "    )"
   ]
  },
  {
   "cell_type": "code",
   "execution_count": 22,
   "metadata": {},
   "outputs": [
    {
     "name": "stderr",
     "output_type": "stream",
     "text": [
      "[INFO] src.tools.browser_2.click - Found texts: ['Карточка заявки', 'Заявка', 'Картотека заявок', 'Проект заявки']\n"
     ]
    }
   ],
   "source": [
    "expected_texts = [\n",
    "                \"Карточка заявки\",\n",
    "                \"Заявка\",\n",
    "                \"Картотека заявок\",\n",
    "                \"Проект заявки\"\n",
    "            ]\n",
    "result = await CheckContentTool().execute(\n",
    "    env=browser_env,texts=expected_texts)\n"
   ]
  },
  {
   "cell_type": "markdown",
   "metadata": {},
   "source": [
    "### Specify building"
   ]
  },
  {
   "cell_type": "code",
   "execution_count": 57,
   "metadata": {},
   "outputs": [
    {
     "name": "stderr",
     "output_type": "stream",
     "text": [
      "[INFO] src.tools.browser_2.dropdown - Opening dropdown by selector: .select2-chosen\n"
     ]
    },
    {
     "name": "stderr",
     "output_type": "stream",
     "text": [
      "[INFO] src.tools.browser_2.dropdown - Retrieving dropdown options\n",
      "[INFO] src.tools.browser_2.dropdown - Closing dropdown with Escape key\n",
      "[INFO] src.tools.browser_2.dropdown - Successfully retrieved 21 options\n"
     ]
    }
   ],
   "source": [
    "result = await DropdownOptionsTool().execute(\n",
    "    env=browser_env,\n",
    "    dropdown_selector = '.select2-chosen',\n",
    ")"
   ]
  },
  {
   "cell_type": "code",
   "execution_count": 24,
   "metadata": {},
   "outputs": [
    {
     "data": {
      "text/plain": [
       "['Коворкинги и пространства',\n",
       " 'ITMO PLACE (Ломоносова 9)',\n",
       " 'Kronbars Space (Ломоносова 9)',\n",
       " 'Коворкинг 1300 (Кронверкский 49)',\n",
       " 'Тихий коворкинг в аудитории 1302',\n",
       " 'Коворкинг Ломоносова 1303 (Ломоносова 9)',\n",
       " 'Коворкинг Студенческого офиса 1400 (Ломоносова 9)',\n",
       " 'Музей истории Университета ИТМО (Гривцова 14-16)',\n",
       " 'Портал в Яндекс (Кронверкский 49)',\n",
       " 'Общий аудиторный фонд',\n",
       " 'Аудиторный фонд ИТМО (Гривцова 14-16)',\n",
       " 'Аудиторный фонд ИТМО (Кронверкский 49)',\n",
       " 'Аудиторный фонд ИТМО (Ломоносова 9)',\n",
       " 'Аудиторный фонд ИТМО (Чайковского 11/2)',\n",
       " 'Актовые залы',\n",
       " 'Актовый зал (Гривцова 14-16)',\n",
       " 'Актовый зал (Ломоносова 9)',\n",
       " 'Конференц-залы',\n",
       " 'Овальный зал пер (Гривцова 14-16)',\n",
       " 'Виртуальные аудитории',\n",
       " 'Виртуальные аудитории zoom']"
      ]
     },
     "execution_count": 24,
     "metadata": {},
     "output_type": "execute_result"
    }
   ],
   "source": [
    "result.meta['options'].split(', ')"
   ]
  },
  {
   "cell_type": "code",
   "execution_count": 25,
   "metadata": {},
   "outputs": [
    {
     "data": {
      "text/plain": [
       "'Аудиторный фонд ИТМО (Кронверкский 49)'"
      ]
     },
     "execution_count": 25,
     "metadata": {},
     "output_type": "execute_result"
    }
   ],
   "source": [
    "expected_building = CONFIG.default_booking_params.building\n",
    "expected_building"
   ]
  },
  {
   "cell_type": "code",
   "execution_count": 58,
   "metadata": {},
   "outputs": [
    {
     "name": "stderr",
     "output_type": "stream",
     "text": [
      "[INFO] src.tools.browser_2.dropdown - Clicking dropdown by selector: .select2-chosen\n",
      "[INFO] src.tools.browser_2.dropdown - Selecting option: Аудиторный фонд ИТМО (Кронверкский 49)\n"
     ]
    },
    {
     "name": "stderr",
     "output_type": "stream",
     "text": [
      "[INFO] src.tools.browser_2.dropdown - Successfully selected 'Аудиторный фонд ИТМО (Кронверкский 49)' from dropdown\n"
     ]
    }
   ],
   "source": [
    "result1 = await DropDownTool().execute(\n",
    "        env=browser_env,\n",
    "        option_text=expected_building,\n",
    "        dropdown_selector='.select2-chosen',\n",
    "    )"
   ]
  },
  {
   "cell_type": "code",
   "execution_count": 59,
   "metadata": {},
   "outputs": [
    {
     "name": "stderr",
     "output_type": "stream",
     "text": [
      "[INFO] src.tools.browser_2.click - Found texts: ['Аудиторный фонд ИТМО (Кронверкский 49)']\n"
     ]
    }
   ],
   "source": [
    "expected_texts = [expected_building]\n",
    "result = await CheckContentTool().execute(\n",
    "    env=browser_env,texts=expected_texts)\n"
   ]
  },
  {
   "cell_type": "markdown",
   "metadata": {},
   "source": [
    "### Select date"
   ]
  },
  {
   "cell_type": "code",
   "execution_count": 60,
   "metadata": {},
   "outputs": [
    {
     "name": "stderr",
     "output_type": "stream",
     "text": [
      "[INFO] src.tools.browser_2.click - Attempting to click element by selector: #P4_DATE\n",
      "[INFO] src.tools.browser_2.click - Click successful on #P4_DATE. URL after click: https://isu.ifmo.ru/pls/apex/f?p=2431:4:117559366568926::NO:4:P4_MIN_DATE,P4_BACK_PAGE:,\n"
     ]
    }
   ],
   "source": [
    "res = ClickTool()\n",
    "click_result = await ClickTool().execute(\n",
    "            env=browser_env,\n",
    "            selector=\"#P4_DATE\",\n",
    "            wait_for_navigation=False,\n",
    ")"
   ]
  },
  {
   "cell_type": "code",
   "execution_count": 61,
   "metadata": {},
   "outputs": [
    {
     "name": "stderr",
     "output_type": "stream",
     "text": [
      "[INFO] src.tools.browser_2.click - Found texts: ['ui-datepicker-calendar', 'ui-datepicker-month', 'ui-datepicker-year']\n"
     ]
    }
   ],
   "source": [
    "calendar_check = await CheckContentTool().execute(\n",
    "                env=browser_env,\n",
    "                texts=[\"ui-datepicker-calendar\", \"ui-datepicker-month\", \"ui-datepicker-year\"]\n",
    "            )"
   ]
  },
  {
   "cell_type": "code",
   "execution_count": 62,
   "metadata": {},
   "outputs": [],
   "source": [
    "from datetime import datetime\n",
    "date_str = \"18-01-2025\"\n",
    "target_date = datetime.strptime(date_str, \"%d-%m-%Y\")"
   ]
  },
  {
   "cell_type": "code",
   "execution_count": 63,
   "metadata": {},
   "outputs": [
    {
     "name": "stderr",
     "output_type": "stream",
     "text": [
      "[INFO] src.tools.browser_2.click - Attempting to click element by selector: [data-handler=\"selectDay\"][data-month=\"0\"][data-year=\"2025\"] a:text(\"18\")\n",
      "[INFO] src.tools.browser_2.click - Click successful on [data-handler=\"selectDay\"][data-month=\"0\"][data-year=\"2025\"] a:text(\"18\"). URL after click: https://isu.ifmo.ru/pls/apex/f?p=2431:4:117559366568926::NO:4:P4_MIN_DATE,P4_BACK_PAGE:,\n"
     ]
    }
   ],
   "source": [
    "date_selector = (\n",
    "                f'[data-handler=\"selectDay\"]'\n",
    "                f'[data-month=\"{target_date.month - 1}\"]'  # jQuery UI months are 0-based\n",
    "                f'[data-year=\"{target_date.year}\"]'\n",
    "                f' a:text(\"{target_date.day}\")'\n",
    "            )\n",
    "            \n",
    "date_click = await ClickTool().execute(\n",
    "                env=browser_env,\n",
    "                selector=date_selector,\n",
    "                wait_for_navigation=False,\n",
    "            )"
   ]
  },
  {
   "cell_type": "code",
   "execution_count": 64,
   "metadata": {},
   "outputs": [
    {
     "data": {
      "text/plain": [
       "'18.01.2025'"
      ]
     },
     "execution_count": 64,
     "metadata": {},
     "output_type": "execute_result"
    }
   ],
   "source": [
    "input_value = await browser_env.page.input_value(\"#P4_DATE\")\n",
    "input_value"
   ]
  },
  {
   "cell_type": "code",
   "execution_count": 65,
   "metadata": {},
   "outputs": [
    {
     "data": {
      "text/plain": [
       "'18.01.2025'"
      ]
     },
     "execution_count": 65,
     "metadata": {},
     "output_type": "execute_result"
    }
   ],
   "source": [
    "target_date_dots_str = datetime.strptime(date_str, \"%d-%m-%Y\").strftime(\"%d.%m.%Y\")\n",
    "target_date_dots_str"
   ]
  },
  {
   "cell_type": "code",
   "execution_count": 66,
   "metadata": {},
   "outputs": [
    {
     "name": "stderr",
     "output_type": "stream",
     "text": [
      "[INFO] src.tools.browser_2.click - Found texts: ['18.01.2025']\n"
     ]
    }
   ],
   "source": [
    "calendar_check = await CheckContentTool().execute(\n",
    "                env=browser_env,\n",
    "                texts=[target_date_dots_str]\n",
    "            )"
   ]
  },
  {
   "cell_type": "markdown",
   "metadata": {},
   "source": [
    "## Бронь аудиторий"
   ]
  },
  {
   "cell_type": "markdown",
   "metadata": {},
   "source": [
    "### Выбор клеточки в расписании"
   ]
  },
  {
   "cell_type": "code",
   "execution_count": 35,
   "metadata": {},
   "outputs": [
    {
     "name": "stderr",
     "output_type": "stream",
     "text": [
      "[INFO] src.tools.browser_2.click - Attempting to click element by selector: #P4_AUD_NAME\n",
      "[INFO] src.tools.browser_2.click - Click successful on #P4_AUD_NAME. URL after click: https://isu.ifmo.ru/pls/apex/f?p=2431:4:117559366568926::NO:4:P4_MIN_DATE,P4_BACK_PAGE:,\n"
     ]
    }
   ],
   "source": [
    "click_tool = await ClickTool().execute(\n",
    "                env=browser_env,\n",
    "                selector=\"#P4_AUD_NAME\",\n",
    "                wait_for_navigation=False,\n",
    "            )\n"
   ]
  },
  {
   "cell_type": "code",
   "execution_count": 36,
   "metadata": {},
   "outputs": [
    {
     "data": {
      "text/plain": [
       "<JSHandle preview=JSHandle@<td roomid=\"29\" interval=\"3\" class=\"reserve\">…</td>>"
      ]
     },
     "execution_count": 36,
     "metadata": {},
     "output_type": "execute_result"
    }
   ],
   "source": [
    "# free room\n",
    "roomid=\"29\"\n",
    "interval=\"3\"\n",
    "# booked room\n",
    "cell_selector = (\n",
    "                f'td.reserve[roomid=\"{roomid}\"][interval=\"{interval}\"]'\n",
    "            )\n",
    "cell = await browser_env.page.query_selector(cell_selector)\n",
    "\n",
    "if not cell:\n",
    "    error=f\"No available slot found for room {roomid} at interval {interval}\"\n",
    "cell"
   ]
  },
  {
   "cell_type": "code",
   "execution_count": 37,
   "metadata": {},
   "outputs": [
    {
     "name": "stderr",
     "output_type": "stream",
     "text": [
      "[INFO] src.tools.browser_2.click - Attempting to click element by selector: td.reserve[roomid=\"29\"][interval=\"3\"]\n"
     ]
    },
    {
     "name": "stderr",
     "output_type": "stream",
     "text": [
      "[INFO] src.tools.browser_2.click - Click successful on td.reserve[roomid=\"29\"][interval=\"3\"]. URL after click: https://isu.ifmo.ru/pls/apex/f?p=2431:4:117559366568926::NO:4:P4_MIN_DATE,P4_BACK_PAGE:,\n"
     ]
    }
   ],
   "source": [
    "cell_click = await ClickTool().execute(\n",
    "                env=browser_env,\n",
    "                selector=cell_selector,\n",
    "                wait_for_navigation=False,\n",
    "            )"
   ]
  },
  {
   "cell_type": "code",
   "execution_count": 38,
   "metadata": {},
   "outputs": [
    {
     "name": "stderr",
     "output_type": "stream",
     "text": [
      "[INFO] src.tools.browser_2.click - Found texts: ['Требуется техническое сопровождение мероприятия', 'Контактный телефон', 'Название мероприятия']\n"
     ]
    },
    {
     "data": {
      "text/plain": [
       "BrowserToolResponse(success=True, error=None, meta={'action': 'check_content', 'url': 'https://isu.ifmo.ru/pls/apex/f?p=2431:4:117559366568926::NO:4:P4_MIN_DATE,P4_BACK_PAGE:,', 'texts': 'Требуется техническое сопровождение мероприятия, Контактный телефон, Название мероприятия', 'narrative': \"Found texts: ['Требуется техническое сопровождение мероприятия', 'Контактный телефон', 'Название мероприятия']\", 'found_texts': 'Требуется техническое сопровождение мероприятия, Контактный телефон, Название мероприятия', 'missing_texts': ''})"
      ]
     },
     "execution_count": 38,
     "metadata": {},
     "output_type": "execute_result"
    }
   ],
   "source": [
    "texts = [\n",
    "    \"Требуется техническое сопровождение мероприятия\",\n",
    "    \"Контактный телефон\",\n",
    "    \"Название мероприятия\"\n",
    "]\n",
    "check = await CheckContentTool().execute(\n",
    "                env=browser_env,\n",
    "                texts=texts\n",
    "            )\n",
    "check"
   ]
  },
  {
   "cell_type": "code",
   "execution_count": 39,
   "metadata": {},
   "outputs": [
    {
     "data": {
      "text/plain": [
       "datetime.time(19, 0)"
      ]
     },
     "execution_count": 39,
     "metadata": {},
     "output_type": "execute_result"
    }
   ],
   "source": [
    "datetime.strptime(\n",
    "            CONFIG.default_booking_params.start_time, \"%H:%M\").time()"
   ]
  },
  {
   "cell_type": "markdown",
   "metadata": {},
   "source": [
    "### Определение нужной аудитории"
   ]
  },
  {
   "cell_type": "code",
   "execution_count": 52,
   "metadata": {},
   "outputs": [],
   "source": [
    "from src.scenarios.booking.booking import BookingParams\n",
    "from src.tools.booking_utils import get_intervals_for_timespan, get_room_id_from_table\n"
   ]
  },
  {
   "cell_type": "code",
   "execution_count": 89,
   "metadata": {},
   "outputs": [
    {
     "name": "stderr",
     "output_type": "stream",
     "text": [
      "[autoreload of src.scenarios.booking failed: Traceback (most recent call last):\n",
      "  File \"/home/olipina/workspace/org-agent/.venv/lib/python3.10/site-packages/IPython/extensions/autoreload.py\", line 276, in check\n",
      "    superreload(m, reload, self.old_objects)\n",
      "  File \"/home/olipina/workspace/org-agent/.venv/lib/python3.10/site-packages/IPython/extensions/autoreload.py\", line 475, in superreload\n",
      "    module = reload(module)\n",
      "  File \"/usr/lib/python3.10/importlib/__init__.py\", line 169, in reload\n",
      "    _bootstrap._exec(spec, module)\n",
      "  File \"<frozen importlib._bootstrap>\", line 619, in _exec\n",
      "  File \"<frozen importlib._bootstrap_external>\", line 883, in exec_module\n",
      "  File \"<frozen importlib._bootstrap>\", line 241, in _call_with_frames_removed\n",
      "  File \"/home/olipina/workspace/org-agent/src/scenarios/booking.py\", line 29, in <module>\n",
      "    class BookingParams(BaseModel):\n",
      "  File \"/home/olipina/workspace/org-agent/src/scenarios/booking.py\", line 47, in BookingParams\n",
      "    default=default_booking_params.rooms_numbers\n",
      "  File \"/home/olipina/workspace/org-agent/.venv/lib/python3.10/site-packages/omegaconf/dictconfig.py\", line 355, in __getattr__\n",
      "    self._format_and_raise(\n",
      "  File \"/home/olipina/workspace/org-agent/.venv/lib/python3.10/site-packages/omegaconf/base.py\", line 231, in _format_and_raise\n",
      "    format_and_raise(\n",
      "omegaconf.errors.ConfigAttributeError: Missing key rooms_numbers\n",
      "    full_key: default_booking_params.rooms_numbers\n",
      "    object_type=dict\n",
      "]\n"
     ]
    }
   ],
   "source": [
    "booking_params = BookingParams(room_count=3)"
   ]
  },
  {
   "cell_type": "code",
   "execution_count": 48,
   "metadata": {},
   "outputs": [
    {
     "data": {
      "text/plain": [
       "BookingParams(room_count=3, date=datetime.datetime(2025, 1, 16, 15, 19, 28, 440663), start_time=datetime.time(19, 0), end_time=datetime.time(22, 50), building='Аудиторный фонд ИТМО (Кронверкский 49)')"
      ]
     },
     "execution_count": 48,
     "metadata": {},
     "output_type": "execute_result"
    }
   ],
   "source": [
    "booking_params"
   ]
  },
  {
   "cell_type": "code",
   "execution_count": 49,
   "metadata": {},
   "outputs": [],
   "source": [
    "start_time = booking_params.start_time\n",
    "end_time = booking_params.end_time"
   ]
  },
  {
   "cell_type": "code",
   "execution_count": 81,
   "metadata": {},
   "outputs": [
    {
     "name": "stderr",
     "output_type": "stream",
     "text": [
      "[INFO] src.tools.booking_utils - Time 19:00:00-22:50:00 overlaps with interval 7 (18:40:00-20:10:00)\n",
      "[INFO] src.tools.booking_utils - Time 19:00:00-22:50:00 overlaps with interval 8 (20:20:00-21:50:00)\n",
      "[INFO] src.tools.booking_utils - Time 19:00:00-22:50:00 overlaps with interval 9 (22:00:00-23:00:00)\n"
     ]
    },
    {
     "data": {
      "text/plain": [
       "['7', '8', '9']"
      ]
     },
     "execution_count": 81,
     "metadata": {},
     "output_type": "execute_result"
    }
   ],
   "source": [
    "from src.tools.booking_utils import GetIntervalsForTimespanTool\n",
    "\n",
    "\n",
    "time_intervals = GetIntervalsForTimespanTool().execute(start_time, end_time)\n",
    "time_intervals"
   ]
  },
  {
   "cell_type": "code",
   "execution_count": null,
   "metadata": {},
   "outputs": [],
   "source": []
  },
  {
   "cell_type": "code",
   "execution_count": 68,
   "metadata": {},
   "outputs": [],
   "source": [
    "page_content =  await browser_env.page.content()"
   ]
  },
  {
   "cell_type": "code",
   "execution_count": 75,
   "metadata": {},
   "outputs": [
    {
     "name": "stderr",
     "output_type": "stream",
     "text": [
      "[INFO] src.tools.booking_utils - Found room_id 59 for room number 2403\n"
     ]
    },
    {
     "data": {
      "text/plain": [
       "'59'"
      ]
     },
     "execution_count": 75,
     "metadata": {},
     "output_type": "execute_result"
    }
   ],
   "source": [
    "from src.tools.booking_utils import GetRoomIdFromTableTool\n",
    "\n",
    "\n",
    "GetRoomIdFromTableTool().execute(\n",
    "    page_content = await browser_env.page.content(),\n",
    "    room_number = \"2403\"\n",
    ")"
   ]
  },
  {
   "cell_type": "code",
   "execution_count": 82,
   "metadata": {},
   "outputs": [
    {
     "name": "stderr",
     "output_type": "stream",
     "text": [
      "[INFO] src.tools.browser_2.click - Attempting to click element by selector: #P4_AUD_NAME\n",
      "[INFO] src.tools.browser_2.click - Click successful on #P4_AUD_NAME. URL after click: https://isu.ifmo.ru/pls/apex/f?p=2431:4:117559366568926::NO:4:P4_MIN_DATE,P4_BACK_PAGE:,\n"
     ]
    }
   ],
   "source": [
    "schedule_res = await ClickTool().execute(\n",
    "                env=browser_env,\n",
    "                selector=\"#P4_AUD_NAME\",\n",
    "                wait_for_navigation=False,\n",
    "            )\n"
   ]
  },
  {
   "cell_type": "markdown",
   "metadata": {},
   "source": [
    "### А если она забронирована?"
   ]
  },
  {
   "cell_type": "code",
   "execution_count": 84,
   "metadata": {},
   "outputs": [
    {
     "name": "stderr",
     "output_type": "stream",
     "text": [
      "[INFO] src.tools.browser_2.click - Found texts: ['scheduleTable']\n"
     ]
    },
    {
     "data": {
      "text/plain": [
       "BrowserToolResponse(success=True, error=None, meta={'action': 'check_content', 'url': 'https://isu.ifmo.ru/pls/apex/f?p=2431:4:117559366568926::NO:4:P4_MIN_DATE,P4_BACK_PAGE:,', 'texts': 'scheduleTable', 'narrative': \"Found texts: ['scheduleTable']\", 'found_texts': 'scheduleTable', 'missing_texts': ''})"
      ]
     },
     "execution_count": 84,
     "metadata": {},
     "output_type": "execute_result"
    }
   ],
   "source": [
    "await CheckContentTool().execute(\n",
    "                env=browser_env,\n",
    "                texts=[\"scheduleTable\"]\n",
    "            )"
   ]
  },
  {
   "cell_type": "code",
   "execution_count": null,
   "metadata": {},
   "outputs": [
    {
     "name": "stdout",
     "output_type": "stream",
     "text": [
      "cell 2 JSHandle@node\n"
     ]
    }
   ],
   "source": [
    "initial_room_number = \"2403\"\n",
    "interval_human_readable = UNIVERSITY_INTERVALS[interval]\n",
    "...\n",
    "room_id = \"59\"\n",
    "interval = \"2\"\n",
    "# interval = \"7\"\n",
    "cell_selector = (\n",
    "                f'td.reserve[roomid=\"{room_id}\"][interval=\"{interval}\"]'\n",
    "            )\n",
    "cell = await browser_env.page.query_selector(cell_selector)\n",
    "logger.info(\"Success – cell found. Room %s is free at interval %s\", initial_room_number, interval_human_readable)\n",
    "if cell is None:\n",
    "    cell_selector = (\n",
    "                f'td.busy[roomid=\"{room_id}\"]'\n",
    "            )\n",
    "    cell = await browser_env.page.query_selector(cell_selector)\n",
    "    if cell is None:\n",
    "        logger.info(\"No cell found for room %s,roomid=%s probably doesn't exist.\", initial_room_number, room_id)\n",
    "    else:\n",
    "        logger.info(\"Cell found. It means that room %s, roomid=%s is already booked at interval %s\", initial_room_number, room_id, interval)"
   ]
  },
  {
   "cell_type": "markdown",
   "metadata": {},
   "source": [
    "# ScenarioSteps"
   ]
  },
  {
   "cell_type": "code",
   "execution_count": 5,
   "metadata": {},
   "outputs": [
    {
     "name": "stderr",
     "output_type": "stream",
     "text": [
      "[INFO] httpx - HTTP Request: GET https://raw.githubusercontent.com/BerriAI/litellm/main/model_prices_and_context_window.json \"HTTP/1.1 200 OK\"\n",
      "[INFO] config - Configuration loaded successfully from /home/olipina/workspace/org-agent/config.yaml\n"
     ]
    }
   ],
   "source": [
    "from src.scenarios.booking.login_step import LoginStep\n",
    "from src.tools.browser.environment import BrowserEnvironment"
   ]
  },
  {
   "cell_type": "code",
   "execution_count": 6,
   "metadata": {},
   "outputs": [
    {
     "name": "stderr",
     "output_type": "stream",
     "text": [
      "[INFO] src.tools.browser.environment - Starting new browser environment\n"
     ]
    }
   ],
   "source": [
    "browser_env = BrowserEnvironment()\n",
    "await browser_env.initialize()"
   ]
  },
  {
   "cell_type": "code",
   "execution_count": 7,
   "metadata": {},
   "outputs": [],
   "source": [
    "login_step = LoginStep()"
   ]
  },
  {
   "cell_type": "code",
   "execution_count": 9,
   "metadata": {},
   "outputs": [
    {
     "name": "stderr",
     "output_type": "stream",
     "text": [
      "[INFO] src.scenarios.booking_steps - Starting login step execution\n",
      "[INFO] src.scenarios.booking_steps - Navigating to login page: https://id.itmo.ru/auth/realms/itmo/protocol/openid-connect/auth?response_type=code&scope=openid&client_id=isu&redirect_uri=https://isu.ifmo.ru/api/sso/v1/public/login?apex_params=p=2143:LOGIN:112820233588688\n",
      "[INFO] src.tools.browser.click - Attempting to navigate to https://id.itmo.ru/auth/realms/itmo/protocol/openid-connect/auth?response_type=code&scope=openid&client_id=isu&redirect_uri=https://isu.ifmo.ru/api/sso/v1/public/login?apex_params=p=2143:LOGIN:112820233588688\n"
     ]
    },
    {
     "name": "stderr",
     "output_type": "stream",
     "text": [
      "[INFO] src.tools.browser.click - Navigation successful to https://id.itmo.ru/auth/realms/itmo/protocol/openid-connect/auth?response_type=code&scope=openid&client_id=isu&redirect_uri=https://isu.ifmo.ru/api/sso/v1/public/login?apex_params=p=2143:LOGIN:112820233588688\n",
      "[INFO] src.tools.browser.click - Found texts: ['Имя пользователя или E-mail']\n",
      "[INFO] src.scenarios.booking_steps - Filling username field\n",
      "[INFO] src.tools.browser.click - Attempting to fill '311408' into input #username\n",
      "[INFO] src.tools.browser.click - Successfully filled '311408' into #username\n",
      "[INFO] src.scenarios.booking_steps - Filling password field\n",
      "[INFO] src.tools.browser.click - Attempting to fill 'wrong' into input #password\n",
      "[INFO] src.tools.browser.click - Successfully filled 'wrong' into #password\n",
      "[INFO] src.scenarios.booking_steps - Clicking login button – logging in with filled values\n",
      "[INFO] src.tools.browser.click - Attempting to click button with text: Вход\n",
      "[INFO] src.tools.browser.click - Waiting for navigation to complete\n",
      "[INFO] src.tools.browser.click - Click successful on text='Вход'. URL after click: https://id.itmo.ru/auth/realms/itmo/login-actions/authenticate?execution=7db2448a-e998-4527-8831-184f67f677f9&client_id=isu&tab_id=P0OBFExU7ms\n",
      "[INFO] src.scenarios.booking_steps - Verifying login success\n",
      "[INFO] src.tools.browser.click - Found texts: []\n",
      "[INFO] src.tools.browser.click - Missing texts: ['Личный кабинет', 'Центр приложений']\n",
      "[ERROR] src.scenarios.booking_steps - Login verification failed - expected elements not found: Missing expected texts: ['Личный кабинет', 'Центр приложений']\n"
     ]
    },
    {
     "data": {
      "text/plain": [
       "False"
      ]
     },
     "execution_count": 9,
     "metadata": {},
     "output_type": "execute_result"
    }
   ],
   "source": [
    "await login_step.execute(browser_env=browser_env)"
   ]
  },
  {
   "cell_type": "code",
   "execution_count": 12,
   "metadata": {},
   "outputs": [
    {
     "name": "stdout",
     "output_type": "stream",
     "text": [
      "Step Status: failed\n",
      "Total executions: 10\n",
      "Success rate: 80.0%\n",
      "\n",
      "Execution Records:\n",
      "\n",
      "--- Sub-command #1 ---\n",
      "Navigating to login page: https://id.itmo.ru/auth/realms/itmo/protocol/openid-connect/auth?response_type=code&scope=openid&client_id=isu&redirect_uri=https://isu.ifmo.ru/api/sso/v1/public/login?apex_params=p=2143:LOGIN:112820233588688: SUCCESS\n",
      "Tool: NavigateTool\n",
      "Time: 2025-01-13 14:07:56\n",
      "Parameters: {'url': 'https://id.itmo.ru/auth/realms/itmo/protocol/openid-connect/auth?response_type=code&scope=openid&client_id=isu&redirect_uri=https://isu.ifmo.ru/api/sso/v1/public/login?apex_params=p=2143:LOGIN:112820233588688'}\n",
      "\n",
      "Action: navigate\n",
      "URL: https://id.itmo.ru/auth/realms/itmo/protocol/openid-connect/auth?response_type=code&scope=openid&client_id=isu&redirect_uri=https://isu.ifmo.ru/api/sso/v1/public/login?apex_params=p=2143:LOGIN:112820233588688\n",
      "\n",
      "--- Sub-command #2 ---\n",
      "Filling username field: SUCCESS\n",
      "Tool: FillTool\n",
      "Time: 2025-01-13 14:07:56\n",
      "Parameters: {'selector': '#username', 'value': '[REDACTED]'}\n",
      "\n",
      "Action: fill\n",
      "URL: https://id.itmo.ru/auth/realms/itmo/protocol/openid-connect/auth?response_type=code&scope=openid&client_id=isu&redirect_uri=https://isu.ifmo.ru/api/sso/v1/public/login?apex_params=p=2143:LOGIN:112820233588688\n",
      "Result: Successfully filled '311408' into #username\n",
      "\n",
      "--- Sub-command #3 ---\n",
      "Filling password field: SUCCESS\n",
      "Tool: FillTool\n",
      "Time: 2025-01-13 14:07:56\n",
      "Parameters: {'selector': '#password', 'value': '[REDACTED]'}\n",
      "\n",
      "Action: fill\n",
      "URL: https://id.itmo.ru/auth/realms/itmo/protocol/openid-connect/auth?response_type=code&scope=openid&client_id=isu&redirect_uri=https://isu.ifmo.ru/api/sso/v1/public/login?apex_params=p=2143:LOGIN:112820233588688\n",
      "Result: Successfully filled 'wrong' into #password\n",
      "\n",
      "--- Sub-command #4 ---\n",
      "SUCCESS\n",
      "Tool: ClickTool\n",
      "Time: 2025-01-13 14:07:57\n",
      "Parameters: {'text': 'Вход'}\n",
      "\n",
      "Action: click\n",
      "URL: https://id.itmo.ru/auth/realms/itmo/protocol/openid-connect/auth?response_type=code&scope=openid&client_id=isu&redirect_uri=https://isu.ifmo.ru/api/sso/v1/public/login?apex_params=p=2143:LOGIN:112820233588688\n",
      "Result: Click successful on text='Вход'. URL after click: https://id.itmo.ru/auth/realms/itmo/login-actions/authenticate?execution=7db2448a-e998-4527-8831-184f67f677f9&client_id=isu&tab_id=zxKDWzsB7MI\n",
      "\n",
      "--- Sub-command #5 ---\n",
      "Verifying login success: FAILURE\n",
      "Tool: CheckContentTool\n",
      "Time: 2025-01-13 14:07:57\n",
      "Parameters: {'texts': ['Личный кабинет', 'Центр приложений']}\n",
      "\n",
      "Error: Missing expected texts: ['Личный кабинет', 'Центр приложений']\n",
      "Execution steps:\n",
      "  - Found texts: []\n",
      "  - Missing texts: ['Личный кабинет', 'Центр приложений']\n",
      "Browser state at failure:\n",
      "  URL: https://id.itmo.ru/auth/realms/itmo/login-actions/authenticate?execution=7db2448a-e998-4527-8831-184f67f677f9&client_id=isu&tab_id=zxKDWzsB7MI\n",
      "  Some visible content:\n",
      "N/A\n",
      "\n",
      "--- Sub-command #6 ---\n",
      "Navigating to login page: https://id.itmo.ru/auth/realms/itmo/protocol/openid-connect/auth?response_type=code&scope=openid&client_id=isu&redirect_uri=https://isu.ifmo.ru/api/sso/v1/public/login?apex_params=p=2143:LOGIN:112820233588688: SUCCESS\n",
      "Tool: NavigateTool\n",
      "Time: 2025-01-13 14:08:27\n",
      "Parameters: {'url': 'https://id.itmo.ru/auth/realms/itmo/protocol/openid-connect/auth?response_type=code&scope=openid&client_id=isu&redirect_uri=https://isu.ifmo.ru/api/sso/v1/public/login?apex_params=p=2143:LOGIN:112820233588688'}\n",
      "\n",
      "Action: navigate\n",
      "URL: https://id.itmo.ru/auth/realms/itmo/protocol/openid-connect/auth?response_type=code&scope=openid&client_id=isu&redirect_uri=https://isu.ifmo.ru/api/sso/v1/public/login?apex_params=p=2143:LOGIN:112820233588688\n",
      "\n",
      "--- Sub-command #7 ---\n",
      "Filling username field: SUCCESS\n",
      "Tool: FillTool\n",
      "Time: 2025-01-13 14:08:27\n",
      "Parameters: {'selector': '#username', 'value': '[REDACTED]'}\n",
      "\n",
      "Action: fill\n",
      "URL: https://id.itmo.ru/auth/realms/itmo/protocol/openid-connect/auth?response_type=code&scope=openid&client_id=isu&redirect_uri=https://isu.ifmo.ru/api/sso/v1/public/login?apex_params=p=2143:LOGIN:112820233588688\n",
      "Result: Successfully filled '311408' into #username\n",
      "\n",
      "--- Sub-command #8 ---\n",
      "Filling password field: SUCCESS\n",
      "Tool: FillTool\n",
      "Time: 2025-01-13 14:08:27\n",
      "Parameters: {'selector': '#password', 'value': '[REDACTED]'}\n",
      "\n",
      "Action: fill\n",
      "URL: https://id.itmo.ru/auth/realms/itmo/protocol/openid-connect/auth?response_type=code&scope=openid&client_id=isu&redirect_uri=https://isu.ifmo.ru/api/sso/v1/public/login?apex_params=p=2143:LOGIN:112820233588688\n",
      "Result: Successfully filled 'wrong' into #password\n",
      "\n",
      "--- Sub-command #9 ---\n",
      "SUCCESS\n",
      "Tool: ClickTool\n",
      "Time: 2025-01-13 14:08:29\n",
      "Parameters: {'text': 'Вход'}\n",
      "\n",
      "Action: click\n",
      "URL: https://id.itmo.ru/auth/realms/itmo/protocol/openid-connect/auth?response_type=code&scope=openid&client_id=isu&redirect_uri=https://isu.ifmo.ru/api/sso/v1/public/login?apex_params=p=2143:LOGIN:112820233588688\n",
      "Result: Click successful on text='Вход'. URL after click: https://id.itmo.ru/auth/realms/itmo/login-actions/authenticate?execution=7db2448a-e998-4527-8831-184f67f677f9&client_id=isu&tab_id=P0OBFExU7ms\n",
      "\n",
      "--- Sub-command #10 ---\n",
      "Verifying login success: FAILURE\n",
      "Tool: CheckContentTool\n",
      "Time: 2025-01-13 14:08:29\n",
      "Parameters: {'texts': ['Личный кабинет', 'Центр приложений']}\n",
      "\n",
      "Error: Missing expected texts: ['Личный кабинет', 'Центр приложений']\n",
      "Execution steps:\n",
      "  - Found texts: []\n",
      "  - Missing texts: ['Личный кабинет', 'Центр приложений']\n",
      "Browser state at failure:\n",
      "  URL: https://id.itmo.ru/auth/realms/itmo/login-actions/authenticate?execution=7db2448a-e998-4527-8831-184f67f677f9&client_id=isu&tab_id=P0OBFExU7ms\n",
      "  Some visible content:\n",
      "N/A\n"
     ]
    }
   ],
   "source": [
    "print(login_step.get_execution_history())"
   ]
  },
  {
   "cell_type": "code",
   "execution_count": 16,
   "metadata": {},
   "outputs": [
    {
     "data": {
      "text/plain": [
       "''"
      ]
     },
     "execution_count": 16,
     "metadata": {},
     "output_type": "execute_result"
    }
   ],
   "source": [
    "await browser_env.describe_state()"
   ]
  },
  {
   "cell_type": "code",
   "execution_count": 16,
   "metadata": {},
   "outputs": [
    {
     "name": "stdout",
     "output_type": "stream",
     "text": [
      "❌ FAILED\n",
      "Tool: CheckContentTool\n",
      "Time: 2025-01-13 10:27:33\n",
      "Parameters: {'texts': ['Личный кабинет', 'Центр приложений']}\n",
      "Error: Missing expected texts: ['Личный кабинет', 'Центр приложений']\n",
      "Execution steps:\n",
      "  - Found texts: []\n",
      "  - Missing texts: ['Личный кабинет', 'Центр приложений']\n",
      "Browser state at failure:\n",
      "  URL: https://id.itmo.ru/auth/realms/itmo/login-actions/authenticate?execution=7db2448a-e998-4527-8831-184f67f677f9&client_id=isu&tab_id=UDoC3GLgU_E\n",
      "  Some visible content:\n",
      "N/A\n"
     ]
    }
   ],
   "source": [
    "print(one_text_response)"
   ]
  },
  {
   "cell_type": "markdown",
   "metadata": {},
   "source": [
    "#### response"
   ]
  },
  {
   "cell_type": "code",
   "execution_count": 7,
   "metadata": {},
   "outputs": [],
   "source": [
    "async def handle_response(response):\n",
    "            print(type(response))\n",
    "            print(f\"Response status: {response.status} | URL: {response.url}\")\n",
    "            print(response.status)\n",
    "            if response.status in [200, 302]:\n",
    "                print(f\"Successful response received with status: {response.status}\")\n",
    "            else:\n",
    "                print(f\"Received unexpected status code: {response.status}\")\n",
    "\n",
    "        # Define a function to handle the request event\n",
    "async def handle_request(request):\n",
    "            print(f\"Request made to: {request.url} | Method: {request.method}\")"
   ]
  },
  {
   "cell_type": "code",
   "execution_count": 8,
   "metadata": {},
   "outputs": [],
   "source": [
    "page = browser_env.page"
   ]
  },
  {
   "cell_type": "code",
   "execution_count": 9,
   "metadata": {},
   "outputs": [],
   "source": [
    "page.on('response', handle_response)"
   ]
  },
  {
   "cell_type": "code",
   "execution_count": null,
   "metadata": {},
   "outputs": [
    {
     "name": "stdout",
     "output_type": "stream",
     "text": [
      "<class 'playwright.async_api._generated.Response'>\n",
      "Response status: 200 | URL: https://example.com/\n",
      "200\n",
      "Successful response received with status: 200\n"
     ]
    },
    {
     "data": {
      "text/plain": [
       "<Response url='https://example.com/' request=<Request url='https://example.com/' method='GET'>>"
      ]
     },
     "execution_count": 10,
     "metadata": {},
     "output_type": "execute_result"
    }
   ],
   "source": [
    "await page.goto('https://example.com')"
   ]
  },
  {
   "cell_type": "markdown",
   "metadata": {},
   "source": [
    "# Scenario calls llm"
   ]
  },
  {
   "cell_type": "code",
   "execution_count": 6,
   "metadata": {},
   "outputs": [],
   "source": [
    "from src.scenarios.booking.booking import BookingScenario\n",
    "from src.message_broker import MessageBroker"
   ]
  },
  {
   "cell_type": "code",
   "execution_count": 7,
   "metadata": {},
   "outputs": [
    {
     "name": "stderr",
     "output_type": "stream",
     "text": [
      "[INFO] src.message_broker - Initialized MessageBroker with Redis at redis://localhost:6379\n"
     ]
    }
   ],
   "source": [
    "message_broker = MessageBroker()"
   ]
  },
  {
   "cell_type": "code",
   "execution_count": 10,
   "metadata": {},
   "outputs": [
    {
     "name": "stderr",
     "output_type": "stream",
     "text": [
      "[INFO] llm_interface - Initializing litellm interface\n"
     ]
    }
   ],
   "source": [
    "booking_scenario = BookingScenario(message_broker=message_broker)"
   ]
  },
  {
   "cell_type": "code",
   "execution_count": 12,
   "metadata": {},
   "outputs": [],
   "source": [
    "random_json = {\n",
    "    \"analysis\": \"The login process failed at the verification step. The expected texts 'Личный кабинет' and 'Центр приложений' were not found, indicating a potential issue with the login credentials, particularly the password which was 'wrong_password'.\",\n",
    "    \"next_action\": {\n",
    "        \"tool_name\": \"CallHumanTool\",\n",
    "        \"params\": {\n",
    "            \"question_to_human\": \"The login attempt failed due to incorrect password. Please provide the correct password.\",\n",
    "            \"options\": []\n",
    "        }\n",
    "    }\n",
    "}\n"
   ]
  },
  {
   "cell_type": "code",
   "execution_count": 9,
   "metadata": {},
   "outputs": [
    {
     "name": "stderr",
     "output_type": "stream",
     "text": [
      "[INFO] src.tools.browser.environment - Starting new browser environment\n"
     ]
    },
    {
     "name": "stderr",
     "output_type": "stream",
     "text": [
      "[INFO] scenarios.base - Starting scenario BookingScenario execution for command: забронируй комнату 2403 на 18 января 2025 с 10 до 13\n",
      "[INFO] llm_interface - Calling model with prompt (300 symbols):\n",
      "Parse the booking command and extract parameters.\n",
      "Current date: {current_date}\n",
      "Command: {user_command}\n",
      "\n",
      "Return a JSON with this structure:\n",
      "{{\n",
      "    \"room_count\": int,\n",
      "    \"date\": \"DD-MM-YYYY\" | null, # You should calculate this based on the current date\n",
      "    \"start_time\": \"HH:MM\" | null,\n",
      "    \"end_time\"\n",
      "\u001b[92m13:41:18 - LiteLLM:INFO\u001b[0m: utils.py:2757 - \n",
      "LiteLLM completion() model= mistral-large-latest; provider = mistral\n",
      "[INFO] LiteLLM - \n",
      "LiteLLM completion() model= mistral-large-latest; provider = mistral\n",
      "[INFO] httpx - HTTP Request: POST https://api.mistral.ai/v1/chat/completions \"HTTP/1.1 200 OK\"\n",
      "\u001b[92m13:41:20 - LiteLLM:INFO\u001b[0m: utils.py:917 - Wrapper: Completed Call, calling success_handler\n",
      "[INFO] LiteLLM - Wrapper: Completed Call, calling success_handler\n",
      "[INFO] llm_interface - Total cost 0.000986\n",
      "[INFO] src.scenarios.booking - Booking command parsed: {'room_count': 1, 'date': '18-01-2025', 'start_time': '10:00', 'end_time': '13:00', 'building': None}\n",
      "[INFO] scenarios.base - \n",
      "Executing step 0: LoginStep\n",
      "[INFO] src.scenarios.booking_steps - Starting login step execution\n",
      "[INFO] src.scenarios.booking_steps - Navigating to login page: https://id.itmo.ru/auth/realms/itmo/protocol/openid-connect/auth?response_type=code&scope=openid&client_id=isu&redirect_uri=https://isu.ifmo.ru/api/sso/v1/public/login?apex_params=p=2143:LOGIN:112820233588688\n",
      "[INFO] src.tools.browser.click - Attempting to navigate to https://id.itmo.ru/auth/realms/itmo/protocol/openid-connect/auth?response_type=code&scope=openid&client_id=isu&redirect_uri=https://isu.ifmo.ru/api/sso/v1/public/login?apex_params=p=2143:LOGIN:112820233588688\n"
     ]
    },
    {
     "ename": "CancelledError",
     "evalue": "",
     "output_type": "error",
     "traceback": [
      "\u001b[0;31m---------------------------------------------------------------------------\u001b[0m",
      "\u001b[0;31mCancelledError\u001b[0m                            Traceback (most recent call last)",
      "Cell \u001b[0;32mIn[9], line 1\u001b[0m\n\u001b[0;32m----> 1\u001b[0m \u001b[38;5;28;01mawait\u001b[39;00m booking_scenario\u001b[38;5;241m.\u001b[39mexecute(command\u001b[38;5;241m=\u001b[39m\u001b[38;5;124m\"\u001b[39m\u001b[38;5;124mзабронируй комнату 2403 на 18 января 2025 с 10 до 13\u001b[39m\u001b[38;5;124m\"\u001b[39m)\n",
      "File \u001b[0;32m~/workspace/org-agent/src/scenarios/booking.py:101\u001b[0m, in \u001b[0;36mBookingScenario.execute\u001b[0;34m(self, command)\u001b[0m\n\u001b[1;32m     97\u001b[0m \u001b[38;5;66;03m# Initialize browser environment\u001b[39;00m\n\u001b[1;32m     99\u001b[0m \u001b[38;5;28;01mawait\u001b[39;00m \u001b[38;5;28mself\u001b[39m\u001b[38;5;241m.\u001b[39menvironment\u001b[38;5;241m.\u001b[39minitialize()\n\u001b[0;32m--> 101\u001b[0m \u001b[38;5;28;01mreturn\u001b[39;00m \u001b[38;5;28;01mawait\u001b[39;00m \u001b[38;5;28msuper\u001b[39m()\u001b[38;5;241m.\u001b[39mexecute(command)\n",
      "File \u001b[0;32m~/workspace/org-agent/src/scenarios/base.py:341\u001b[0m, in \u001b[0;36mBaseScenario.execute\u001b[0;34m(self, command)\u001b[0m\n\u001b[1;32m    334\u001b[0m logger\u001b[38;5;241m.\u001b[39minfo(\n\u001b[1;32m    335\u001b[0m     \u001b[38;5;124m\"\u001b[39m\u001b[38;5;130;01m\\n\u001b[39;00m\u001b[38;5;124mExecuting step \u001b[39m\u001b[38;5;132;01m%d\u001b[39;00m\u001b[38;5;124m: \u001b[39m\u001b[38;5;132;01m%s\u001b[39;00m\u001b[38;5;124m\"\u001b[39m,\n\u001b[1;32m    336\u001b[0m     \u001b[38;5;28mself\u001b[39m\u001b[38;5;241m.\u001b[39mcontext\u001b[38;5;241m.\u001b[39mcurrent_step_index,\n\u001b[1;32m    337\u001b[0m     current_step\u001b[38;5;241m.\u001b[39m\u001b[38;5;18m__class__\u001b[39m\u001b[38;5;241m.\u001b[39m\u001b[38;5;18m__name__\u001b[39m\n\u001b[1;32m    338\u001b[0m )\n\u001b[1;32m    340\u001b[0m \u001b[38;5;66;03m# Execute step\u001b[39;00m\n\u001b[0;32m--> 341\u001b[0m success \u001b[38;5;241m=\u001b[39m \u001b[38;5;28;01mawait\u001b[39;00m \u001b[38;5;28mself\u001b[39m\u001b[38;5;241m.\u001b[39m_execute_step(current_step)\n\u001b[1;32m    343\u001b[0m \u001b[38;5;28;01mif\u001b[39;00m \u001b[38;5;129;01mnot\u001b[39;00m success:\n\u001b[1;32m    344\u001b[0m     \u001b[38;5;66;03m# Step failed, need clarification\u001b[39;00m\n\u001b[1;32m    345\u001b[0m     \u001b[38;5;28mself\u001b[39m\u001b[38;5;241m.\u001b[39mcontext\u001b[38;5;241m.\u001b[39mstatus \u001b[38;5;241m=\u001b[39m ScenarioStatus\u001b[38;5;241m.\u001b[39mWAITING_FOR_CLARIFICATION\n",
      "File \u001b[0;32m~/workspace/org-agent/src/scenarios/base.py:314\u001b[0m, in \u001b[0;36mBaseScenario._execute_step\u001b[0;34m(self, step)\u001b[0m\n\u001b[1;32m    312\u001b[0m \u001b[38;5;28;01masync\u001b[39;00m \u001b[38;5;28;01mdef\u001b[39;00m \u001b[38;5;21m_execute_step\u001b[39m(\u001b[38;5;28mself\u001b[39m,\n\u001b[1;32m    313\u001b[0m                         step: ScenarioStep):\n\u001b[0;32m--> 314\u001b[0m     step_result \u001b[38;5;241m=\u001b[39m \u001b[38;5;28;01mawait\u001b[39;00m step\u001b[38;5;241m.\u001b[39mexecute(browser_env\u001b[38;5;241m=\u001b[39m\u001b[38;5;28mself\u001b[39m\u001b[38;5;241m.\u001b[39menvironment)\n\u001b[1;32m    315\u001b[0m     \u001b[38;5;66;03m# success = await step.verify_success(browser_env=self.environment)\u001b[39;00m\n\u001b[1;32m    316\u001b[0m     \u001b[38;5;28;01mreturn\u001b[39;00m step_result\n",
      "File \u001b[0;32m~/workspace/org-agent/src/scenarios/booking_steps.py:42\u001b[0m, in \u001b[0;36mLoginStep.execute\u001b[0;34m(self, browser_env)\u001b[0m\n\u001b[1;32m     40\u001b[0m msg \u001b[38;5;241m=\u001b[39m \u001b[38;5;124mf\u001b[39m\u001b[38;5;124m\"\u001b[39m\u001b[38;5;124mNavigating to login page: \u001b[39m\u001b[38;5;132;01m{\u001b[39;00mCONFIG\u001b[38;5;241m.\u001b[39misu_booking_creds\u001b[38;5;241m.\u001b[39mbooking_login\u001b[38;5;132;01m}\u001b[39;00m\u001b[38;5;124m\"\u001b[39m\n\u001b[1;32m     41\u001b[0m logger\u001b[38;5;241m.\u001b[39minfo(msg)\n\u001b[0;32m---> 42\u001b[0m nav_result \u001b[38;5;241m=\u001b[39m \u001b[38;5;28;01mawait\u001b[39;00m NavigateTool()\u001b[38;5;241m.\u001b[39mexecute(\n\u001b[1;32m     43\u001b[0m     env\u001b[38;5;241m=\u001b[39mbrowser_env,\n\u001b[1;32m     44\u001b[0m     url\u001b[38;5;241m=\u001b[39mCONFIG\u001b[38;5;241m.\u001b[39misu_booking_creds\u001b[38;5;241m.\u001b[39mbooking_login\n\u001b[1;32m     45\u001b[0m )\n\u001b[1;32m     47\u001b[0m nav_check_result \u001b[38;5;241m=\u001b[39m \u001b[38;5;28;01mawait\u001b[39;00m CheckContentTool()\u001b[38;5;241m.\u001b[39mexecute(\n\u001b[1;32m     48\u001b[0m     env\u001b[38;5;241m=\u001b[39mbrowser_env,\n\u001b[1;32m     49\u001b[0m     texts\u001b[38;5;241m=\u001b[39m[\u001b[38;5;124m\"\u001b[39m\u001b[38;5;124mИмя пользователя или E-mail\u001b[39m\u001b[38;5;124m\"\u001b[39m]\n\u001b[1;32m     50\u001b[0m )\n\u001b[1;32m     52\u001b[0m \u001b[38;5;28;01mawait\u001b[39;00m \u001b[38;5;28mself\u001b[39m\u001b[38;5;241m.\u001b[39m_record_tool_execution(\n\u001b[1;32m     53\u001b[0m     tool_name\u001b[38;5;241m=\u001b[39m\u001b[38;5;124m\"\u001b[39m\u001b[38;5;124mNavigateTool\u001b[39m\u001b[38;5;124m\"\u001b[39m,\n\u001b[1;32m     54\u001b[0m     params\u001b[38;5;241m=\u001b[39m{\u001b[38;5;124m\"\u001b[39m\u001b[38;5;124murl\u001b[39m\u001b[38;5;124m\"\u001b[39m: CONFIG\u001b[38;5;241m.\u001b[39misu_booking_creds\u001b[38;5;241m.\u001b[39mbooking_login},\n\u001b[0;32m   (...)\u001b[0m\n\u001b[1;32m     61\u001b[0m     header_summary\u001b[38;5;241m=\u001b[39mmsg\n\u001b[1;32m     62\u001b[0m )\n",
      "File \u001b[0;32m~/workspace/org-agent/src/tools/browser/click.py:287\u001b[0m, in \u001b[0;36mNavigateTool.execute\u001b[0;34m(self, env, url, timeout)\u001b[0m\n\u001b[1;32m    284\u001b[0m meta[\u001b[38;5;124m\"\u001b[39m\u001b[38;5;124mnarrative\u001b[39m\u001b[38;5;124m\"\u001b[39m]\u001b[38;5;241m.\u001b[39mappend(msg)\n\u001b[1;32m    285\u001b[0m logger\u001b[38;5;241m.\u001b[39minfo(msg)\n\u001b[0;32m--> 287\u001b[0m \u001b[38;5;28;01mawait\u001b[39;00m env\u001b[38;5;241m.\u001b[39mpage\u001b[38;5;241m.\u001b[39mgoto(url, timeout\u001b[38;5;241m=\u001b[39mtimeout)\n\u001b[1;32m    289\u001b[0m msg \u001b[38;5;241m=\u001b[39m \u001b[38;5;124mf\u001b[39m\u001b[38;5;124m\"\u001b[39m\u001b[38;5;124mNavigation successful to \u001b[39m\u001b[38;5;132;01m{\u001b[39;00murl\u001b[38;5;132;01m}\u001b[39;00m\u001b[38;5;124m\"\u001b[39m\n\u001b[1;32m    290\u001b[0m meta[\u001b[38;5;124m\"\u001b[39m\u001b[38;5;124mnarrative\u001b[39m\u001b[38;5;124m\"\u001b[39m]\u001b[38;5;241m.\u001b[39mappend(msg)\n",
      "File \u001b[0;32m~/workspace/org-agent/.venv/lib/python3.10/site-packages/playwright/async_api/_generated.py:8973\u001b[0m, in \u001b[0;36mPage.goto\u001b[0;34m(self, url, timeout, wait_until, referer)\u001b[0m\n\u001b[1;32m   8912\u001b[0m \u001b[38;5;28;01masync\u001b[39;00m \u001b[38;5;28;01mdef\u001b[39;00m \u001b[38;5;21mgoto\u001b[39m(\n\u001b[1;32m   8913\u001b[0m     \u001b[38;5;28mself\u001b[39m,\n\u001b[1;32m   8914\u001b[0m     url: \u001b[38;5;28mstr\u001b[39m,\n\u001b[0;32m   (...)\u001b[0m\n\u001b[1;32m   8920\u001b[0m     referer: typing\u001b[38;5;241m.\u001b[39mOptional[\u001b[38;5;28mstr\u001b[39m] \u001b[38;5;241m=\u001b[39m \u001b[38;5;28;01mNone\u001b[39;00m,\n\u001b[1;32m   8921\u001b[0m ) \u001b[38;5;241m-\u001b[39m\u001b[38;5;241m>\u001b[39m typing\u001b[38;5;241m.\u001b[39mOptional[\u001b[38;5;124m\"\u001b[39m\u001b[38;5;124mResponse\u001b[39m\u001b[38;5;124m\"\u001b[39m]:\n\u001b[1;32m   8922\u001b[0m \u001b[38;5;250m    \u001b[39m\u001b[38;5;124;03m\"\"\"Page.goto\u001b[39;00m\n\u001b[1;32m   8923\u001b[0m \n\u001b[1;32m   8924\u001b[0m \u001b[38;5;124;03m    Returns the main resource response. In case of multiple redirects, the navigation will resolve with the first\u001b[39;00m\n\u001b[0;32m   (...)\u001b[0m\n\u001b[1;32m   8969\u001b[0m \u001b[38;5;124;03m    Union[Response, None]\u001b[39;00m\n\u001b[1;32m   8970\u001b[0m \u001b[38;5;124;03m    \"\"\"\u001b[39;00m\n\u001b[1;32m   8972\u001b[0m     \u001b[38;5;28;01mreturn\u001b[39;00m mapping\u001b[38;5;241m.\u001b[39mfrom_impl_nullable(\n\u001b[0;32m-> 8973\u001b[0m         \u001b[38;5;28;01mawait\u001b[39;00m \u001b[38;5;28mself\u001b[39m\u001b[38;5;241m.\u001b[39m_impl_obj\u001b[38;5;241m.\u001b[39mgoto(\n\u001b[1;32m   8974\u001b[0m             url\u001b[38;5;241m=\u001b[39murl, timeout\u001b[38;5;241m=\u001b[39mtimeout, waitUntil\u001b[38;5;241m=\u001b[39mwait_until, referer\u001b[38;5;241m=\u001b[39mreferer\n\u001b[1;32m   8975\u001b[0m         )\n\u001b[1;32m   8976\u001b[0m     )\n",
      "File \u001b[0;32m~/workspace/org-agent/.venv/lib/python3.10/site-packages/playwright/_impl/_page.py:551\u001b[0m, in \u001b[0;36mPage.goto\u001b[0;34m(self, url, timeout, waitUntil, referer)\u001b[0m\n\u001b[1;32m    544\u001b[0m \u001b[38;5;28;01masync\u001b[39;00m \u001b[38;5;28;01mdef\u001b[39;00m \u001b[38;5;21mgoto\u001b[39m(\n\u001b[1;32m    545\u001b[0m     \u001b[38;5;28mself\u001b[39m,\n\u001b[1;32m    546\u001b[0m     url: \u001b[38;5;28mstr\u001b[39m,\n\u001b[0;32m   (...)\u001b[0m\n\u001b[1;32m    549\u001b[0m     referer: \u001b[38;5;28mstr\u001b[39m \u001b[38;5;241m=\u001b[39m \u001b[38;5;28;01mNone\u001b[39;00m,\n\u001b[1;32m    550\u001b[0m ) \u001b[38;5;241m-\u001b[39m\u001b[38;5;241m>\u001b[39m Optional[Response]:\n\u001b[0;32m--> 551\u001b[0m     \u001b[38;5;28;01mreturn\u001b[39;00m \u001b[38;5;28;01mawait\u001b[39;00m \u001b[38;5;28mself\u001b[39m\u001b[38;5;241m.\u001b[39m_main_frame\u001b[38;5;241m.\u001b[39mgoto(\u001b[38;5;241m*\u001b[39m\u001b[38;5;241m*\u001b[39mlocals_to_params(\u001b[38;5;28mlocals\u001b[39m()))\n",
      "File \u001b[0;32m~/workspace/org-agent/.venv/lib/python3.10/site-packages/playwright/_impl/_frame.py:145\u001b[0m, in \u001b[0;36mFrame.goto\u001b[0;34m(self, url, timeout, waitUntil, referer)\u001b[0m\n\u001b[1;32m    135\u001b[0m \u001b[38;5;28;01masync\u001b[39;00m \u001b[38;5;28;01mdef\u001b[39;00m \u001b[38;5;21mgoto\u001b[39m(\n\u001b[1;32m    136\u001b[0m     \u001b[38;5;28mself\u001b[39m,\n\u001b[1;32m    137\u001b[0m     url: \u001b[38;5;28mstr\u001b[39m,\n\u001b[0;32m   (...)\u001b[0m\n\u001b[1;32m    140\u001b[0m     referer: \u001b[38;5;28mstr\u001b[39m \u001b[38;5;241m=\u001b[39m \u001b[38;5;28;01mNone\u001b[39;00m,\n\u001b[1;32m    141\u001b[0m ) \u001b[38;5;241m-\u001b[39m\u001b[38;5;241m>\u001b[39m Optional[Response]:\n\u001b[1;32m    142\u001b[0m     \u001b[38;5;28;01mreturn\u001b[39;00m cast(\n\u001b[1;32m    143\u001b[0m         Optional[Response],\n\u001b[1;32m    144\u001b[0m         from_nullable_channel(\n\u001b[0;32m--> 145\u001b[0m             \u001b[38;5;28;01mawait\u001b[39;00m \u001b[38;5;28mself\u001b[39m\u001b[38;5;241m.\u001b[39m_channel\u001b[38;5;241m.\u001b[39msend(\u001b[38;5;124m\"\u001b[39m\u001b[38;5;124mgoto\u001b[39m\u001b[38;5;124m\"\u001b[39m, locals_to_params(\u001b[38;5;28mlocals\u001b[39m()))\n\u001b[1;32m    146\u001b[0m         ),\n\u001b[1;32m    147\u001b[0m     )\n",
      "File \u001b[0;32m~/workspace/org-agent/.venv/lib/python3.10/site-packages/playwright/_impl/_connection.py:61\u001b[0m, in \u001b[0;36mChannel.send\u001b[0;34m(self, method, params)\u001b[0m\n\u001b[1;32m     60\u001b[0m \u001b[38;5;28;01masync\u001b[39;00m \u001b[38;5;28;01mdef\u001b[39;00m \u001b[38;5;21msend\u001b[39m(\u001b[38;5;28mself\u001b[39m, method: \u001b[38;5;28mstr\u001b[39m, params: Dict \u001b[38;5;241m=\u001b[39m \u001b[38;5;28;01mNone\u001b[39;00m) \u001b[38;5;241m-\u001b[39m\u001b[38;5;241m>\u001b[39m Any:\n\u001b[0;32m---> 61\u001b[0m     \u001b[38;5;28;01mreturn\u001b[39;00m \u001b[38;5;28;01mawait\u001b[39;00m \u001b[38;5;28mself\u001b[39m\u001b[38;5;241m.\u001b[39m_connection\u001b[38;5;241m.\u001b[39mwrap_api_call(\n\u001b[1;32m     62\u001b[0m         \u001b[38;5;28;01mlambda\u001b[39;00m: \u001b[38;5;28mself\u001b[39m\u001b[38;5;241m.\u001b[39m_inner_send(method, params, \u001b[38;5;28;01mFalse\u001b[39;00m),\n\u001b[1;32m     63\u001b[0m         \u001b[38;5;28mself\u001b[39m\u001b[38;5;241m.\u001b[39m_is_internal_type,\n\u001b[1;32m     64\u001b[0m     )\n",
      "File \u001b[0;32m~/workspace/org-agent/.venv/lib/python3.10/site-packages/playwright/_impl/_connection.py:526\u001b[0m, in \u001b[0;36mConnection.wrap_api_call\u001b[0;34m(self, cb, is_internal)\u001b[0m\n\u001b[1;32m    524\u001b[0m \u001b[38;5;28mself\u001b[39m\u001b[38;5;241m.\u001b[39m_api_zone\u001b[38;5;241m.\u001b[39mset(parsed_st)\n\u001b[1;32m    525\u001b[0m \u001b[38;5;28;01mtry\u001b[39;00m:\n\u001b[0;32m--> 526\u001b[0m     \u001b[38;5;28;01mreturn\u001b[39;00m \u001b[38;5;28;01mawait\u001b[39;00m cb()\n\u001b[1;32m    527\u001b[0m \u001b[38;5;28;01mexcept\u001b[39;00m \u001b[38;5;167;01mException\u001b[39;00m \u001b[38;5;28;01mas\u001b[39;00m error:\n\u001b[1;32m    528\u001b[0m     \u001b[38;5;28;01mraise\u001b[39;00m rewrite_error(error, \u001b[38;5;124mf\u001b[39m\u001b[38;5;124m\"\u001b[39m\u001b[38;5;132;01m{\u001b[39;00mparsed_st[\u001b[38;5;124m'\u001b[39m\u001b[38;5;124mapiName\u001b[39m\u001b[38;5;124m'\u001b[39m]\u001b[38;5;132;01m}\u001b[39;00m\u001b[38;5;124m: \u001b[39m\u001b[38;5;132;01m{\u001b[39;00merror\u001b[38;5;132;01m}\u001b[39;00m\u001b[38;5;124m\"\u001b[39m) \u001b[38;5;28;01mfrom\u001b[39;00m \u001b[38;5;28;01mNone\u001b[39;00m\n",
      "File \u001b[0;32m~/workspace/org-agent/.venv/lib/python3.10/site-packages/playwright/_impl/_connection.py:92\u001b[0m, in \u001b[0;36mChannel._inner_send\u001b[0;34m(self, method, params, return_as_dict)\u001b[0m\n\u001b[1;32m     88\u001b[0m     \u001b[38;5;28;01mraise\u001b[39;00m error\n\u001b[1;32m     89\u001b[0m callback \u001b[38;5;241m=\u001b[39m \u001b[38;5;28mself\u001b[39m\u001b[38;5;241m.\u001b[39m_connection\u001b[38;5;241m.\u001b[39m_send_message_to_server(\n\u001b[1;32m     90\u001b[0m     \u001b[38;5;28mself\u001b[39m\u001b[38;5;241m.\u001b[39m_object, method, _filter_none(params)\n\u001b[1;32m     91\u001b[0m )\n\u001b[0;32m---> 92\u001b[0m done, _ \u001b[38;5;241m=\u001b[39m \u001b[38;5;28;01mawait\u001b[39;00m asyncio\u001b[38;5;241m.\u001b[39mwait(\n\u001b[1;32m     93\u001b[0m     {\n\u001b[1;32m     94\u001b[0m         \u001b[38;5;28mself\u001b[39m\u001b[38;5;241m.\u001b[39m_connection\u001b[38;5;241m.\u001b[39m_transport\u001b[38;5;241m.\u001b[39mon_error_future,\n\u001b[1;32m     95\u001b[0m         callback\u001b[38;5;241m.\u001b[39mfuture,\n\u001b[1;32m     96\u001b[0m     },\n\u001b[1;32m     97\u001b[0m     return_when\u001b[38;5;241m=\u001b[39masyncio\u001b[38;5;241m.\u001b[39mFIRST_COMPLETED,\n\u001b[1;32m     98\u001b[0m )\n\u001b[1;32m     99\u001b[0m \u001b[38;5;28;01mif\u001b[39;00m \u001b[38;5;129;01mnot\u001b[39;00m callback\u001b[38;5;241m.\u001b[39mfuture\u001b[38;5;241m.\u001b[39mdone():\n\u001b[1;32m    100\u001b[0m     callback\u001b[38;5;241m.\u001b[39mfuture\u001b[38;5;241m.\u001b[39mcancel()\n",
      "File \u001b[0;32m/usr/lib/python3.10/asyncio/tasks.py:384\u001b[0m, in \u001b[0;36mwait\u001b[0;34m(fs, timeout, return_when)\u001b[0m\n\u001b[1;32m    377\u001b[0m     warnings\u001b[38;5;241m.\u001b[39mwarn(\u001b[38;5;124m\"\u001b[39m\u001b[38;5;124mThe explicit passing of coroutine objects to \u001b[39m\u001b[38;5;124m\"\u001b[39m\n\u001b[1;32m    378\u001b[0m                   \u001b[38;5;124m\"\u001b[39m\u001b[38;5;124masyncio.wait() is deprecated since Python 3.8, and \u001b[39m\u001b[38;5;124m\"\u001b[39m\n\u001b[1;32m    379\u001b[0m                   \u001b[38;5;124m\"\u001b[39m\u001b[38;5;124mscheduled for removal in Python 3.11.\u001b[39m\u001b[38;5;124m\"\u001b[39m,\n\u001b[1;32m    380\u001b[0m                   \u001b[38;5;167;01mDeprecationWarning\u001b[39;00m, stacklevel\u001b[38;5;241m=\u001b[39m\u001b[38;5;241m2\u001b[39m)\n\u001b[1;32m    382\u001b[0m fs \u001b[38;5;241m=\u001b[39m {ensure_future(f, loop\u001b[38;5;241m=\u001b[39mloop) \u001b[38;5;28;01mfor\u001b[39;00m f \u001b[38;5;129;01min\u001b[39;00m fs}\n\u001b[0;32m--> 384\u001b[0m \u001b[38;5;28;01mreturn\u001b[39;00m \u001b[38;5;28;01mawait\u001b[39;00m _wait(fs, timeout, return_when, loop)\n",
      "File \u001b[0;32m/usr/lib/python3.10/asyncio/tasks.py:491\u001b[0m, in \u001b[0;36m_wait\u001b[0;34m(fs, timeout, return_when, loop)\u001b[0m\n\u001b[1;32m    488\u001b[0m     f\u001b[38;5;241m.\u001b[39madd_done_callback(_on_completion)\n\u001b[1;32m    490\u001b[0m \u001b[38;5;28;01mtry\u001b[39;00m:\n\u001b[0;32m--> 491\u001b[0m     \u001b[38;5;28;01mawait\u001b[39;00m waiter\n\u001b[1;32m    492\u001b[0m \u001b[38;5;28;01mfinally\u001b[39;00m:\n\u001b[1;32m    493\u001b[0m     \u001b[38;5;28;01mif\u001b[39;00m timeout_handle \u001b[38;5;129;01mis\u001b[39;00m \u001b[38;5;129;01mnot\u001b[39;00m \u001b[38;5;28;01mNone\u001b[39;00m:\n",
      "\u001b[0;31mCancelledError\u001b[0m: "
     ]
    }
   ],
   "source": [
    "await booking_scenario.execute(command=\"забронируй комнату 2403 на 18 января 2025 с 10 до 13\")"
   ]
  },
  {
   "cell_type": "code",
   "execution_count": 8,
   "metadata": {},
   "outputs": [
    {
     "name": "stdout",
     "output_type": "stream",
     "text": [
      "Step Status: failed\n",
      "Total executions: 7\n",
      "Success rate: 71.4%\n",
      "\n",
      "Execution Records:\n",
      "\n",
      "--- Sub-command #1 ---\n",
      "Navigating to login page: https://id.itmo.ru/auth/realms/itmo/protocol/openid-connect/auth?response_type=code&scope=openid&client_id=isu&redirect_uri=https://isu.ifmo.ru/api/sso/v1/public/login?apex_params=p=2143:LOGIN:112820233588688: SUCCESS\n",
      "Tool: NavigateTool\n",
      "Time: 2025-01-13 20:51:41\n",
      "Parameters: {'url': 'https://id.itmo.ru/auth/realms/itmo/protocol/openid-connect/auth?response_type=code&scope=openid&client_id=isu&redirect_uri=https://isu.ifmo.ru/api/sso/v1/public/login?apex_params=p=2143:LOGIN:112820233588688'}\n",
      "\n",
      "URL: https://id.itmo.ru/auth/realms/itmo/protocol/openid-connect/auth?response_type=code&scope=openid&client_id=isu&redirect_uri=https://isu.ifmo.ru/api/sso/v1/public/login?apex_params=p=2143:LOGIN:112820233588688\n",
      "\n",
      "--- Sub-command #2 ---\n",
      "Filling username field: SUCCESS\n",
      "Tool: FillTool\n",
      "Time: 2025-01-13 20:51:41\n",
      "Parameters: {'selector': '#username', 'value': '[REDACTED]'}\n",
      "\n",
      "URL: https://id.itmo.ru/auth/realms/itmo/protocol/openid-connect/auth?response_type=code&scope=openid&client_id=isu&redirect_uri=https://isu.ifmo.ru/api/sso/v1/public/login?apex_params=p=2143:LOGIN:112820233588688\n",
      "Result: Successfully filled '311408' into #username\n",
      "\n",
      "--- Sub-command #3 ---\n",
      "Filling password field: SUCCESS\n",
      "Tool: FillTool\n",
      "Time: 2025-01-13 20:51:41\n",
      "Parameters: {'selector': '#password', 'value': '[REDACTED]'}\n",
      "\n",
      "URL: https://id.itmo.ru/auth/realms/itmo/protocol/openid-connect/auth?response_type=code&scope=openid&client_id=isu&redirect_uri=https://isu.ifmo.ru/api/sso/v1/public/login?apex_params=p=2143:LOGIN:112820233588688\n",
      "Result: Successfully filled 'wrong_password' into #password\n",
      "\n",
      "--- Sub-command #4 ---\n",
      "SUCCESS\n",
      "Tool: ClickTool\n",
      "Time: 2025-01-13 20:51:42\n",
      "Parameters: {'text': 'Вход'}\n",
      "\n",
      "URL: https://id.itmo.ru/auth/realms/itmo/protocol/openid-connect/auth?response_type=code&scope=openid&client_id=isu&redirect_uri=https://isu.ifmo.ru/api/sso/v1/public/login?apex_params=p=2143:LOGIN:112820233588688\n",
      "Result: Click successful on text='Вход'. URL after click: https://id.itmo.ru/auth/realms/itmo/login-actions/authenticate?execution=7db2448a-e998-4527-8831-184f67f677f9&client_id=isu&tab_id=n9Zvd4Y6BlY\n",
      "\n",
      "--- Sub-command #5 ---\n",
      "Verifying login success...: FAILURE\n",
      "Tool: CheckContentTool\n",
      "Time: 2025-01-13 20:51:43\n",
      "Parameters: {'texts': ['Личный кабинет', 'Центр приложений']}\n",
      "\n",
      "Error: Missing expected texts: ['Личный кабинет', 'Центр приложений']\n",
      "Execution steps:\n",
      "  - Found texts: []\n",
      "  - Missing texts: ['Личный кабинет', 'Центр приложений']\n",
      "State at failure:\n",
      "  - env_address: https://id.itmo.ru/auth/realms/itmo/login-actions/authenticate?execution=7db2448a-e998-4527-8831-184f67f677f9&client_id=isu&tab_id=n9Zvd4Y6BlY\n",
      "  - env_state: \n",
      "\n",
      "--- Sub-command #6 ---\n",
      "Using tool chosen by LLM (recovery attempt): SUCCESS\n",
      "Tool: FillTool\n",
      "Time: 2025-01-13 20:51:46\n",
      "Parameters: {'selector': '#password', 'value': '[PROVIDE_CORRECT_PASSWORD]', 'env': <src.tools.browser.environment.BrowserEnvironment object at 0x7feee11532e0>}\n",
      "\n",
      "URL: https://id.itmo.ru/auth/realms/itmo/login-actions/authenticate?execution=7db2448a-e998-4527-8831-184f67f677f9&client_id=isu&tab_id=n9Zvd4Y6BlY\n",
      "Result: Successfully filled '[PROVIDE_CORRECT_PASSWORD]' into #password\n",
      "\n",
      "--- Sub-command #7 ---\n",
      "Verifying login success...: FAILURE\n",
      "Tool: CheckContentTool\n",
      "Time: 2025-01-13 20:51:46\n",
      "Parameters: {'texts': ['Личный кабинет', 'Центр приложений']}\n",
      "\n",
      "Error: Missing expected texts: ['Личный кабинет', 'Центр приложений']\n",
      "Execution steps:\n",
      "  - Found texts: []\n",
      "  - Missing texts: ['Личный кабинет', 'Центр приложений']\n",
      "State at failure:\n",
      "  - env_address: https://id.itmo.ru/auth/realms/itmo/login-actions/authenticate?execution=7db2448a-e998-4527-8831-184f67f677f9&client_id=isu&tab_id=n9Zvd4Y6BlY\n",
      "  - env_state: \n"
     ]
    }
   ],
   "source": [
    "print(booking_scenario.steps[booking_scenario.context.current_step_index-1].get_execution_history())"
   ]
  },
  {
   "cell_type": "markdown",
   "metadata": {},
   "source": [
    "# Redis брокер – сообщения"
   ]
  },
  {
   "cell_type": "code",
   "execution_count": 12,
   "metadata": {},
   "outputs": [],
   "source": [
    "import asyncio\n",
    "from src.message_broker import MessageBroker"
   ]
  },
  {
   "cell_type": "code",
   "execution_count": 13,
   "metadata": {},
   "outputs": [
    {
     "name": "stderr",
     "output_type": "stream",
     "text": [
      "[INFO] src.message_broker - Initialized MessageBroker with Redis at redis://localhost:6379\n",
      "[INFO] src.message_broker - Created consumer group agent_group for stream human_requests\n",
      "[INFO] src.message_broker - Created consumer group agent_group for stream human_responses\n"
     ]
    }
   ],
   "source": [
    "broker = MessageBroker()\n",
    "await broker.initialize()"
   ]
  },
  {
   "cell_type": "code",
   "execution_count": 14,
   "metadata": {},
   "outputs": [
    {
     "name": "stderr",
     "output_type": "stream",
     "text": [
      "[INFO] src.message_broker - Sent human request de6f8cf5-d233-42a6-b408-22d854e467cd for scenario test_scenario: Is this working?\n"
     ]
    }
   ],
   "source": [
    "request_id = await broker.send_request(\n",
    "            scenario_id=\"test_scenario\",\n",
    "            question=\"Is this working?\",\n",
    "            options=[\"Yes\", \"No\"]\n",
    "        )"
   ]
  },
  {
   "cell_type": "code",
   "execution_count": 15,
   "metadata": {},
   "outputs": [
    {
     "name": "stdout",
     "output_type": "stream",
     "text": [
      "Found request: request_id='de6f8cf5-d233-42a6-b408-22d854e467cd' scenario_id='test_scenario' question='Is this working?' options=['Yes', 'No'] timestamp=datetime.datetime(2025, 1, 14, 11, 39, 41, 388587) context=None\n"
     ]
    }
   ],
   "source": [
    "requests = await broker.check_requests()\n",
    "for request in requests:\n",
    "            print(f\"Found request: {request}\")"
   ]
  },
  {
   "cell_type": "code",
   "execution_count": 16,
   "metadata": {},
   "outputs": [
    {
     "name": "stderr",
     "output_type": "stream",
     "text": [
      "[INFO] src.message_broker - Sent response for request de6f8cf5-d233-42a6-b408-22d854e467cd: Yes\n"
     ]
    }
   ],
   "source": [
    "await broker.send_response(request.request_id, \"Yes\")"
   ]
  },
  {
   "cell_type": "code",
   "execution_count": 17,
   "metadata": {},
   "outputs": [
    {
     "name": "stderr",
     "output_type": "stream",
     "text": [
      "[INFO] src.message_broker - Received response for request de6f8cf5-d233-42a6-b408-22d854e467cd: Yes\n"
     ]
    },
    {
     "name": "stdout",
     "output_type": "stream",
     "text": [
      "Got response: Yes\n"
     ]
    }
   ],
   "source": [
    "response = await broker.get_response(request_id)\n",
    "print(f\"Got response: {response}\")"
   ]
  },
  {
   "cell_type": "code",
   "execution_count": null,
   "metadata": {},
   "outputs": [],
   "source": [
    "\n",
    "\n",
    "async def main():\n",
    "    # Initialize broker\n",
    "    broker = MessageBroker()\n",
    "    await broker.initialize()\n",
    "    \n",
    "    try:\n",
    "        # Send a test request\n",
    "        request_id = await broker.send_request(\n",
    "            scenario_id=\"test_scenario\",\n",
    "            question=\"Is this working?\",\n",
    "            options=[\"Yes\", \"No\"]\n",
    "        )\n",
    "        \n",
    "        print(f\"Sent request {request_id}\")\n",
    "        \n",
    "        # Check for requests (simulating the human side)\n",
    "        requests = await broker.check_requests()\n",
    "        for request in requests:\n",
    "            print(f\"Found request: {request}\")\n",
    "            \n",
    "            # Simulate human responding\n",
    "            await broker.send_response(request.request_id, \"Yes\")\n",
    "            \n",
    "        # Get the response (back to agent side)\n",
    "        response = await broker.get_response(request_id)\n",
    "        print(f\"Got response: {response}\")\n",
    "        \n",
    "    finally:\n",
    "        await broker.cleanup()\n",
    "\n",
    "if __name__ == \"__main__\":\n",
    "    asyncio.run(main())"
   ]
  }
 ],
 "metadata": {
  "kernelspec": {
   "display_name": ".venv",
   "language": "python",
   "name": "python3"
  },
  "language_info": {
   "codemirror_mode": {
    "name": "ipython",
    "version": 3
   },
   "file_extension": ".py",
   "mimetype": "text/x-python",
   "name": "python",
   "nbconvert_exporter": "python",
   "pygments_lexer": "ipython3",
   "version": "3.10.12"
  }
 },
 "nbformat": 4,
 "nbformat_minor": 2
}
